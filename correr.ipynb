{
 "cells": [
  {
   "cell_type": "code",
   "execution_count": 3,
   "metadata": {},
   "outputs": [
    {
     "name": "stdout",
     "output_type": "stream",
     "text": [
      "Collecting flask\n",
      "  Downloading flask-3.1.1-py3-none-any.whl.metadata (3.0 kB)\n",
      "Collecting blinker>=1.9.0 (from flask)\n",
      "  Downloading blinker-1.9.0-py3-none-any.whl.metadata (1.6 kB)\n",
      "Collecting click>=8.1.3 (from flask)\n",
      "  Downloading click-8.2.1-py3-none-any.whl.metadata (2.5 kB)\n",
      "Collecting itsdangerous>=2.2.0 (from flask)\n",
      "  Downloading itsdangerous-2.2.0-py3-none-any.whl.metadata (1.9 kB)\n",
      "Collecting jinja2>=3.1.2 (from flask)\n",
      "  Downloading jinja2-3.1.6-py3-none-any.whl.metadata (2.9 kB)\n",
      "Collecting markupsafe>=2.1.1 (from flask)\n",
      "  Downloading MarkupSafe-3.0.2-cp313-cp313-win_amd64.whl.metadata (4.1 kB)\n",
      "Collecting werkzeug>=3.1.0 (from flask)\n",
      "  Using cached werkzeug-3.1.3-py3-none-any.whl.metadata (3.7 kB)\n",
      "Requirement already satisfied: colorama in c:\\users\\mario\\desktop\\workspace\\webpage\\.venv\\lib\\site-packages (from click>=8.1.3->flask) (0.4.6)\n",
      "Downloading flask-3.1.1-py3-none-any.whl (103 kB)\n",
      "Downloading blinker-1.9.0-py3-none-any.whl (8.5 kB)\n",
      "Downloading click-8.2.1-py3-none-any.whl (102 kB)\n",
      "Downloading itsdangerous-2.2.0-py3-none-any.whl (16 kB)\n",
      "Downloading jinja2-3.1.6-py3-none-any.whl (134 kB)\n",
      "Downloading MarkupSafe-3.0.2-cp313-cp313-win_amd64.whl (15 kB)\n",
      "Using cached werkzeug-3.1.3-py3-none-any.whl (224 kB)\n",
      "Installing collected packages: markupsafe, itsdangerous, click, blinker, werkzeug, jinja2, flask\n",
      "\n",
      "   ----- ---------------------------------- 1/7 [itsdangerous]\n",
      "   ----- ---------------------------------- 1/7 [itsdangerous]\n",
      "   ----------- ---------------------------- 2/7 [click]\n",
      "   ----------- ---------------------------- 2/7 [click]\n",
      "   ----------- ---------------------------- 2/7 [click]\n",
      "   ----------------- ---------------------- 3/7 [blinker]\n",
      "   ---------------------- ----------------- 4/7 [werkzeug]\n",
      "   ---------------------- ----------------- 4/7 [werkzeug]\n",
      "   ---------------------- ----------------- 4/7 [werkzeug]\n",
      "   ---------------------- ----------------- 4/7 [werkzeug]\n",
      "   ---------------------- ----------------- 4/7 [werkzeug]\n",
      "   ---------------------- ----------------- 4/7 [werkzeug]\n",
      "   ---------------------- ----------------- 4/7 [werkzeug]\n",
      "   ---------------------- ----------------- 4/7 [werkzeug]\n",
      "   ---------------------- ----------------- 4/7 [werkzeug]\n",
      "   ---------------------- ----------------- 4/7 [werkzeug]\n",
      "   ---------------------------- ----------- 5/7 [jinja2]\n",
      "   ---------------------------- ----------- 5/7 [jinja2]\n",
      "   ---------------------------- ----------- 5/7 [jinja2]\n",
      "   ---------------------------- ----------- 5/7 [jinja2]\n",
      "   ---------------------------- ----------- 5/7 [jinja2]\n",
      "   ---------------------------------- ----- 6/7 [flask]\n",
      "   ---------------------------------- ----- 6/7 [flask]\n",
      "   ---------------------------------- ----- 6/7 [flask]\n",
      "   ---------------------------------- ----- 6/7 [flask]\n",
      "   ---------------------------------- ----- 6/7 [flask]\n",
      "   ---------------------------------- ----- 6/7 [flask]\n",
      "   ---------------------------------------- 7/7 [flask]\n",
      "\n",
      "Successfully installed blinker-1.9.0 click-8.2.1 flask-3.1.1 itsdangerous-2.2.0 jinja2-3.1.6 markupsafe-3.0.2 werkzeug-3.1.3\n"
     ]
    }
   ],
   "source": [
    "! pip install flask\n"
   ]
  },
  {
   "cell_type": "code",
   "execution_count": 5,
   "metadata": {},
   "outputs": [
    {
     "name": "stdout",
     "output_type": "stream",
     "text": [
      "^C\n"
     ]
    }
   ],
   "source": [
    "!python app.py\n"
   ]
  },
  {
   "cell_type": "code",
   "execution_count": null,
   "metadata": {},
   "outputs": [],
   "source": []
  }
 ],
 "metadata": {
  "kernelspec": {
   "display_name": ".venv",
   "language": "python",
   "name": "python3"
  },
  "language_info": {
   "codemirror_mode": {
    "name": "ipython",
    "version": 3
   },
   "file_extension": ".py",
   "mimetype": "text/x-python",
   "name": "python",
   "nbconvert_exporter": "python",
   "pygments_lexer": "ipython3",
   "version": "3.13.3"
  }
 },
 "nbformat": 4,
 "nbformat_minor": 2
}
